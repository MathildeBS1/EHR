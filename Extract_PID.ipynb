{
 "cells": [
  {
   "cell_type": "code",
   "execution_count": null,
   "metadata": {},
   "outputs": [],
   "source": [
    "import pandas as pd\n",
    "import yaml\n",
    "\n",
    "# Load configuration\n",
    "CONFIG_PATH = \"./corebehrt/configs/select_cohort.yaml\"\n",
    "\n",
    "with open(CONFIG_PATH, \"r\") as file:\n",
    "    config = yaml.safe_load(file)\n",
    "\n",
    "# Paths from YAML\n",
    "ehr_cohort_path = config[\"paths\"][\"ehr_cohort\"]\n",
    "mammogram_scores_path = config[\"paths\"][\"mammogram_scores\"]\n",
    "filtered_exposure_path = config[\"paths\"][\"exposure\"]  # This file will be used as exposure in cohort selection\n",
    "\n",
    "\n",
    "def filter_and_match_mammogram_exposure():\n",
    "    \"\"\"\n",
    "    Filters and matches mammogram data with the EHR cohort using 'Accession_ID'.\n",
    "    Ensures only patients with mammograms are included and assigns the first mammogram event.\n",
    "    \"\"\"\n",
    "    print(\"Loading EHR cohort...\")\n",
    "    ehr_cohort = pd.read_csv(ehr_cohort_path, usecols=[\"Accession_ID\"])\n",
    "    ehr_cohort[\"Accession_ID\"] = ehr_cohort[\"Accession_ID\"].astype(str)\n",
    "\n",
    "    print(\"Loading mammogram scores...\")\n",
    "    mammogram_scores = pd.read_csv(mammogram_scores_path)\n",
    "    mammogram_scores[\"Accession_ID\"] = mammogram_scores[\"Accession_ID\"].astype(str)\n",
    "\n",
    "    # Filter mammogram data to include only patients in EHR cohort\n",
    "    matched_mammograms = mammogram_scores[mammogram_scores[\"Accession_ID\"].isin(ehr_cohort[\"Accession_ID\"])]\n",
    "\n",
    "    if matched_mammograms.empty:\n",
    "        raise ValueError(\"No matching patients found between EHR cohort and mammogram records!\")\n",
    "\n",
    "    print(f\"Matched {len(matched_mammograms)} mammogram records with EHR cohort.\")\n",
    "\n",
    "    # Assign the first mammogram event per patient (based on timestamp)\n",
    "    matched_mammograms[\"Bestillingstidspunkt\"] = pd.to_datetime(matched_mammograms[\"Bestillingstidspunkt\"])\n",
    "    first_mammogram = matched_mammograms.sort_values(by=[\"Accession_ID\", \"Bestillingstidspunkt\"]) \\\n",
    "                                         .drop_duplicates(subset=\"Accession_ID\", keep=\"first\")\n",
    "\n",
    "    print(f\"Final cohort with mammograms: {len(first_mammogram)} patients.\")\n",
    "\n",
    "    # Save cleaned exposure file\n",
    "    first_mammogram.to_csv(filtered_exposure_path, index=False)\n",
    "    print(f\"Filtered mammogram exposure file saved to {filtered_exposure_path}\")\n",
    "\n",
    "\n",
    "if __name__ == \"__main__\":\n",
    "    filter_and_match_mammogram_exposure()"
   ]
  }
 ],
 "metadata": {
  "kernelspec": {
   "display_name": ".venv",
   "language": "python",
   "name": "python3"
  },
  "language_info": {
   "name": "python",
   "version": "3.12.7"
  }
 },
 "nbformat": 4,
 "nbformat_minor": 2
}
